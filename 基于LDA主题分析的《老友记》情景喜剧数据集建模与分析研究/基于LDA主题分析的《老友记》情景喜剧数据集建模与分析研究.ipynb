{
 "cells": [
  {
   "cell_type": "markdown",
   "id": "19d48494",
   "metadata": {},
   "source": [
    "# 1. 项目背景\n",
    "\n",
    "《老友记》是一部备受欢迎的美国情景喜剧，由David Crane和Marta Kauffman创作，于1994年至2004年间播放。该剧讲述了六位年轻人在纽约的生活，以及他们之间的友谊、爱情和生活经历。由于其风趣、幽默的对白和真实的情感描绘，《老友记》在全球范围内赢得了大量观众。\n",
    "\n",
    "LDA（Latent Dirichlet Allocation）主题分析是一种文本挖掘和机器学习技术，旨在从大量文本数据中发现主题结构。该方法假设每个文档都是由多个主题组成，而每个主题又由一组单词表示。LDA的应用领域包括信息检索、社交媒体分析、新闻主题挖掘等。\n",
    "\n",
    "\n",
    "研究者们对《老友记》进行主题分析的兴趣可能源自以下几个方面：\n",
    "\n",
    "1. 剧情深度分析： 通过LDA主题分析，《老友记》的剧本可以被分解为不同的主题，揭示剧情的深度和多样性。这有助于理解故事情节的发展、人物关系的演变以及情景喜剧的幽默元素。\n",
    "\n",
    "2. 观众反馈分析： 通过分析观众对《老友记》的评论、讨论和反馈，可以了解哪些主题引起了观众的关注和讨论。这有助于制片人和编剧更好地了解观众的反应，从而指导后续剧集的制作方向。\n",
    "\n",
    "3. 文本挖掘技术应用： 将LDA等文本挖掘技术应用于影视剧本分析，可以为电视剧的创作和改进提供新的方法。这种方法也可以在其他文本数据集上得到推广应用，拓展到更广泛的娱乐产业或文本分析领域。\n",
    "\n",
    "4. 文化研究角度： 通过主题分析，研究者可以深入挖掘《老友记》所反映的文化元素、社会现象和时代特征。这有助于理解该剧在文化中的地位以及对观众产生的影响。\n",
    "\n",
    "在本研究中，利用LDA主题分析技术对《老友记》情景喜剧的剧本进行建模，旨在深入挖掘该剧的主题结构，揭示其故事内涵和文本特征。这样的分析有望为电视剧创作、文本挖掘技术的应用以及文化研究领域提供有益的见解。"
   ]
  },
  {
   "cell_type": "markdown",
   "id": "f402f371",
   "metadata": {},
   "source": [
    "# 2. 数据集介绍\n",
    "\n",
    "本数据集来源于kaggle，《老友记》是一部美国情景喜剧，由大卫·克兰和玛尔塔·考夫曼创作，于1994年9月22日至2004年5月6日在美国全国广播公司播出，共十季。这部剧由詹妮弗·安妮斯顿、柯特妮·考克斯、丽莎·库卓、马特·勒布朗、马修·佩里和大卫·修默主演，围绕着六个住在纽约曼哈顿的二三十岁的朋友展开。该系列由Bright/Kauffman/Crane Productions与华纳兄弟电视公司联合制作。最初的执行制片人是凯文·s·布莱特、考夫曼和克兰。原始数据集共有67373条，6个特征变量，各变量含义如下：\n",
    "\n",
    "text:对话作为文本\n",
    "\n",
    "speaker:演讲者的名字\n",
    "\n",
    "season:季节号\n",
    "\n",
    "episode：第1集\n",
    "\n",
    "scene:场景编号\n",
    "\n",
    "utterance:话语数"
   ]
  },
  {
   "cell_type": "markdown",
   "id": "14dca85a",
   "metadata": {},
   "source": [
    "# 3. 技术工具\n",
    "\n",
    "Python版本:3.9\n",
    "\n",
    "代码编辑器：jupyter notebook"
   ]
  },
  {
   "cell_type": "markdown",
   "id": "51306e7b",
   "metadata": {},
   "source": [
    "# 4. 实验过程\n",
    "## 4.1 导入数据"
   ]
  },
  {
   "cell_type": "code",
   "execution_count": 2,
   "id": "a7e5db0d",
   "metadata": {},
   "outputs": [
    {
     "data": {
      "text/html": [
       "<div>\n",
       "<style scoped>\n",
       "    .dataframe tbody tr th:only-of-type {\n",
       "        vertical-align: middle;\n",
       "    }\n",
       "\n",
       "    .dataframe tbody tr th {\n",
       "        vertical-align: top;\n",
       "    }\n",
       "\n",
       "    .dataframe thead th {\n",
       "        text-align: right;\n",
       "    }\n",
       "</style>\n",
       "<table border=\"1\" class=\"dataframe\">\n",
       "  <thead>\n",
       "    <tr style=\"text-align: right;\">\n",
       "      <th></th>\n",
       "      <th>text</th>\n",
       "      <th>speaker</th>\n",
       "      <th>season</th>\n",
       "      <th>episode</th>\n",
       "      <th>scene</th>\n",
       "      <th>utterance</th>\n",
       "    </tr>\n",
       "  </thead>\n",
       "  <tbody>\n",
       "    <tr>\n",
       "      <th>0</th>\n",
       "      <td>There's nothing to tell! He's just some guy I ...</td>\n",
       "      <td>Monica Geller</td>\n",
       "      <td>1</td>\n",
       "      <td>1</td>\n",
       "      <td>1</td>\n",
       "      <td>1</td>\n",
       "    </tr>\n",
       "    <tr>\n",
       "      <th>1</th>\n",
       "      <td>C'mon, you're going out with the guy! There's ...</td>\n",
       "      <td>Joey Tribbiani</td>\n",
       "      <td>1</td>\n",
       "      <td>1</td>\n",
       "      <td>1</td>\n",
       "      <td>2</td>\n",
       "    </tr>\n",
       "    <tr>\n",
       "      <th>2</th>\n",
       "      <td>All right Joey, be nice. So does he have a hum...</td>\n",
       "      <td>Chandler Bing</td>\n",
       "      <td>1</td>\n",
       "      <td>1</td>\n",
       "      <td>1</td>\n",
       "      <td>3</td>\n",
       "    </tr>\n",
       "    <tr>\n",
       "      <th>3</th>\n",
       "      <td>Wait, does he eat chalk?</td>\n",
       "      <td>Phoebe Buffay</td>\n",
       "      <td>1</td>\n",
       "      <td>1</td>\n",
       "      <td>1</td>\n",
       "      <td>4</td>\n",
       "    </tr>\n",
       "    <tr>\n",
       "      <th>4</th>\n",
       "      <td>(They all stare, bemused.)</td>\n",
       "      <td>Scene Directions</td>\n",
       "      <td>1</td>\n",
       "      <td>1</td>\n",
       "      <td>1</td>\n",
       "      <td>5</td>\n",
       "    </tr>\n",
       "  </tbody>\n",
       "</table>\n",
       "</div>"
      ],
      "text/plain": [
       "                                                text           speaker  \\\n",
       "0  There's nothing to tell! He's just some guy I ...     Monica Geller   \n",
       "1  C'mon, you're going out with the guy! There's ...    Joey Tribbiani   \n",
       "2  All right Joey, be nice. So does he have a hum...     Chandler Bing   \n",
       "3                           Wait, does he eat chalk?     Phoebe Buffay   \n",
       "4                         (They all stare, bemused.)  Scene Directions   \n",
       "\n",
       "   season  episode  scene  utterance  \n",
       "0       1        1      1          1  \n",
       "1       1        1      1          2  \n",
       "2       1        1      1          3  \n",
       "3       1        1      1          4  \n",
       "4       1        1      1          5  "
      ]
     },
     "execution_count": 2,
     "metadata": {},
     "output_type": "execute_result"
    }
   ],
   "source": [
    "import pandas as pd\n",
    "friends_data = pd.read_csv('friends.csv')\n",
    "friends_data.head()"
   ]
  },
  {
   "cell_type": "code",
   "execution_count": null,
   "id": "dc692c4a",
   "metadata": {},
   "outputs": [],
   "source": []
  }
 ],
 "metadata": {
  "kernelspec": {
   "display_name": "Python 3 (ipykernel)",
   "language": "python",
   "name": "python3"
  },
  "language_info": {
   "codemirror_mode": {
    "name": "ipython",
    "version": 3
   },
   "file_extension": ".py",
   "mimetype": "text/x-python",
   "name": "python",
   "nbconvert_exporter": "python",
   "pygments_lexer": "ipython3",
   "version": "3.10.9"
  }
 },
 "nbformat": 4,
 "nbformat_minor": 5
}
